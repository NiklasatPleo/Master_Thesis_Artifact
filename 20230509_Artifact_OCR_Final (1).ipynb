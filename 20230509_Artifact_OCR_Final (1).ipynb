{
  "cells": [
    {
      "cell_type": "markdown",
      "metadata": {
        "id": "5sQraqXMuZ-7"
      },
      "source": [
        "# Installing packages "
      ]
    },
    {
      "cell_type": "code",
      "execution_count": null,
      "metadata": {
        "id": "3Qlngyrj_Gfe"
      },
      "outputs": [],
      "source": [
        "!sudo apt install tesseract-ocr-spa # tesseract installed with Spanish language\n",
        "!apt install libtesseract-dev\n",
        "!pip install pyTesseract\n",
        "!tesseract --list-langs\n",
        "!pip install pdf2image # to convert pdfs\n",
        "!apt-get install poppler-utils\n",
        "!pip install deskew"
      ]
    },
    {
      "cell_type": "code",
      "execution_count": null,
      "metadata": {
        "id": "27ElSxfY_GnM"
      },
      "outputs": [],
      "source": [
        "# Install packages\n",
        "import numpy as np\n",
        "import pandas as pd\n",
        "from matplotlib import pyplot as plt\n",
        "from matplotlib.pyplot import figure\n",
        "from PIL import Image, ImageEnhance\n",
        "from tqdm import tqdm\n",
        "import time\n",
        "from pytesseract import Output\n",
        "import pytesseract\n",
        "from google.colab.patches import cv2_imshow # because cv2.imshow() is blocked in Google Colab\n",
        "from google.colab.patches import cv2\n",
        "from pdf2image import convert_from_path\n",
        "import math\n",
        "from typing import Tuple, Union\n",
        "import cv2\n",
        "from deskew import determine_skew\n",
        "import re\n",
        "import pickle \n",
        "from google.colab import drive # Connect collab notebook to GDrive \n",
        "drive.mount('/content/drive')"
      ]
    },
    {
      "cell_type": "markdown",
      "metadata": {
        "id": "W4563i4vunhn"
      },
      "source": [
        "#Loading Images and labels"
      ]
    },
    {
      "cell_type": "code",
      "execution_count": null,
      "metadata": {
        "id": "jZ-8Qk61OQ4K"
      },
      "outputs": [],
      "source": [
        "## Loading tickets and facturas\n",
        "import glob, os\n",
        "fact_expense_ids = []\n",
        "fact_images = []\n",
        "for i in glob.iglob('/content/drive/MyDrive/Facturas_Final/**', recursive=True):\n",
        "    if os.path.isfile(i): # filter dirs\n",
        "        filename = os.path.basename(i) # extract filename from path\n",
        "        parts = filename.split('-')[0:5] # split filename by - and only take first five parts\n",
        "        fact_expense_ids.append('-'.join(parts)) # add back together and add to id - list\n",
        "        fact_images.append(convert_from_path(i)) # add pictures\n",
        "\n",
        "fact_labels = pd.read_csv ('/content/drive/MyDrive/Labels/20230403_OCR_final_query_results.csv') #loaded Factura-labels for expense ids, filtered query for expense ids from filepahts (fact_expense_ids), stored query in csv-file & loaded it\n",
        "#fact_labels"
      ]
    },
    {
      "cell_type": "code",
      "execution_count": null,
      "metadata": {
        "id": "on9_-m4bJJI8"
      },
      "outputs": [],
      "source": [
        "#fact_images[0][0]"
      ]
    },
    {
      "cell_type": "markdown",
      "source": [
        "# Data exploration"
      ],
      "metadata": {
        "id": "ckKPDomAzs0i"
      }
    },
    {
      "cell_type": "code",
      "source": [
        "# Function to display Factura including label according to Pleo data\n",
        "def show_fact(no):\n",
        "  print(fact_expense_ids[no])\n",
        "  print(fact_labels[fact_labels['expense_id'] == fact_expense_ids[no]].to_markdown())\n",
        "  return fact_images[no][0]"
      ],
      "metadata": {
        "id": "T1M5ZDCqzxGL"
      },
      "execution_count": null,
      "outputs": []
    },
    {
      "cell_type": "code",
      "execution_count": null,
      "metadata": {
        "id": "2oNJdRPWVtpS"
      },
      "outputs": [],
      "source": [
        "#show_fact(1)"
      ]
    },
    {
      "cell_type": "markdown",
      "metadata": {
        "id": "LNmpmGkbutV8"
      },
      "source": [
        "#Pre-Processing"
      ]
    },
    {
      "cell_type": "markdown",
      "metadata": {
        "id": "sF5anpGejuOV"
      },
      "source": [
        "#### Functions for Pre-Processing"
      ]
    },
    {
      "cell_type": "code",
      "execution_count": null,
      "metadata": {
        "id": "qRaIOQXBim0M"
      },
      "outputs": [],
      "source": [
        "# Convert to greyscale\n",
        "def greyscale(image):\n",
        "  greyscale = cv2.cvtColor(img, cv2.COLOR_BGR2GRAY)\n",
        "  return greyscale\n",
        "\n",
        "# Enhance contrast\n",
        "def contrast(image):\n",
        "  contrast_factor = 1.5 # Adjust this value to increase or decrease contrast\n",
        "  contrast_enhancer = ImageEnhance.Contrast(Image.fromarray(image)) # convert to PIL image and enhance contrast\n",
        "  enhanced_img = np.asarray(contrast_enhancer.enhance(contrast_factor)) # convert back to numpy array\n",
        "  return enhanced_img\n",
        "\n",
        "# Resizing image / Normalizing image\n",
        "def resize(image, target_dpi):\n",
        "    if isinstance(image, np.ndarray):\n",
        "        # Convert array to Image object\n",
        "        img = Image.fromarray(image)\n",
        "\n",
        "    # Calculate the target size based on the current size and desired DPI\n",
        "    w, h = img.size\n",
        "    current_dpi = img.info.get('dpi', (72, 72))[0]\n",
        "    scale_factor = target_dpi / current_dpi\n",
        "    target_size = (int(w * scale_factor), int(h * scale_factor))\n",
        "\n",
        "    # Resample the image to the target size and DPI\n",
        "    resized_image = img.resize(target_size, resample=Image.BICUBIC)\n",
        "    resized_image.info['dpi'] = (target_dpi, target_dpi)\n",
        "\n",
        "    if isinstance(image, np.ndarray):\n",
        "        # Convert Image object back to grayscale array\n",
        "        resized_image = np.array(resized_image)\n",
        "    # return np.uint8(resized_image)\n",
        "    return resized_image\n",
        "\n",
        "# Binarization after Gaussian filtering, Input must be greyscale, Binarisation nach https://docs.opencv.org/4.x/d7/d4d/tutorial_py_thresholding.html\n",
        "\n",
        "def threshold(image):\n",
        "    # Check if image is grayscale\n",
        "    if len(image.shape) == 3 and image.shape[2] == 3:\n",
        "        image = cv2.cvtColor(image, cv2.COLOR_BGR2GRAY)\n",
        "    elif len(image.shape) == 3 and image.shape[2] == 4:\n",
        "        image = cv2.cvtColor(image, cv2.COLOR_BGRA2GRAY)\n",
        "\n",
        "    # ret1, th1 = cv2.threshold(image, 127, 255, cv2.THRESH_BINARY) # Global thresholding (performed worse on test receipt)\n",
        "    ret2, th2 = cv2.threshold(image, 0, 255, cv2.THRESH_BINARY+cv2.THRESH_OTSU) # Otsu's thresholding\n",
        "    # blur = cv2.GaussianBlur(image, (5, 5), 0)\n",
        "    # ret3, th3 = cv2.threshold(blur, 0, 255, cv2.THRESH_BINARY+cv2.THRESH_OTSU) # Otsu's thresholding after Gaussian filtering (performed worse on test receipt)\n",
        "    return th2\n",
        "\n",
        "# Removing shadows\n",
        "def shadow(image):\n",
        "    rgb_planes = cv2.split(image)\n",
        "    result_norm_planes = []\n",
        "    for plane in rgb_planes:\n",
        "        dilated_img = cv2.dilate(plane, np.ones((7,7), np.uint8))\n",
        "        bg_img = cv2.medianBlur(dilated_img, 21)\n",
        "        diff_img = 255 - cv2.absdiff(plane, bg_img)\n",
        "        norm_img = cv2.normalize(diff_img,None, alpha=0, beta=255, norm_type=cv2.NORM_MINMAX, dtype=cv2.CV_8UC1)\n",
        "        result_norm_planes.append(norm_img)\n",
        "    shadowremov = cv2.merge(result_norm_planes)\n",
        "    return shadowremov\n",
        "\n",
        "# Sharpening image with a kernel, https://www.analyticsvidhya.com/blog/2021/08/sharpening-an-image-using-opencv-library-in-python/\n",
        "def sharpen(image):\n",
        "  kernel = np.array([[0, -1, 0],\n",
        "                   [-1, 5,-1],\n",
        "                   [0, -1, 0]])\n",
        "  image_sharp = cv2.filter2D(src=image, ddepth=-1, kernel=kernel)\n",
        "  return image_sharp\n",
        "\n",
        "\n",
        "# De-noising - Function 1\n",
        "def denoise(image):\n",
        "  #converted_img = cv2.cvtColor(image, cv2.COLOR_GRAY2BGR) # denoising needs 3 channels, i.e. greyscale pictures would need to be converted\n",
        "  dst = cv2.fastNlMeansDenoising(image, None, 10, 7, 15) \n",
        "  return dst\n",
        "\n",
        "# De-noising - Function 2\n",
        "def noise_removal(image):\n",
        "  kernel = np.ones((1,1), np.uint8)\n",
        "  image = cv2.dilate(image, kernel, iterations = 1)\n",
        "  kernel = np.ones((1,1), np.uint8)\n",
        "  image = cv2.erode(image, kernel, iterations = 1)\n",
        "  image = cv2.morphologyEx(image, cv2.MORPH_CLOSE, kernel)\n",
        "  image = cv2.medianBlur(image, 3)\n",
        "  return image\n",
        "\n",
        "# Rotation - Function 1\n",
        "def rotate(image):\n",
        "\n",
        "    angle = determine_skew(image)\n",
        "    if angle is None:\n",
        "        angle = 0\n",
        "    background = (0, 0, 0)\n",
        "\n",
        "    old_width, old_height = image.shape[:2]\n",
        "    angle_radian = math.radians(angle)\n",
        "    width = abs(np.sin(angle_radian) * old_height) + abs(np.cos(angle_radian) * old_width)\n",
        "    height = abs(np.sin(angle_radian) * old_width) + abs(np.cos(angle_radian) * old_height)\n",
        "\n",
        "    image_center = tuple(np.array(image.shape[1::-1]) / 2)\n",
        "    rot_mat = cv2.getRotationMatrix2D(image_center, angle, 1.0)\n",
        "    rot_mat[1, 2] += (width - old_width) / 2\n",
        "    rot_mat[0, 2] += (height - old_height) / 2\n",
        "    return cv2.warpAffine(image, rot_mat, (int(round(height)), int(round(width))), borderValue=background)\n",
        "\n",
        "# Rotation - Function 2\n",
        "def correct_skew(image):\n",
        "    # Convert to grayscale\n",
        "    grayscale_image = cv2.cvtColor(image, cv2.COLOR_BGR2GRAY)\n",
        "\n",
        "    # Find contours and extract the largest one\n",
        "    contours, _ = cv2.findContours(grayscale_image, cv2.RETR_EXTERNAL, cv2.CHAIN_APPROX_SIMPLE)\n",
        "    largest_contour = max(contours, key=cv2.contourArea)\n",
        "\n",
        "    # Find the minimum area rectangle that bounds the largest contour\n",
        "    rect = cv2.minAreaRect(largest_contour)\n",
        "\n",
        "    # Compute the angle of rotation\n",
        "    angle = rect[-1]\n",
        "    if angle < -45:\n",
        "        angle += 90\n",
        "    else:\n",
        "        angle -= 90\n",
        "        \n",
        "    # Rotate the image to correct the skew\n",
        "    if angle < -45:\n",
        "        angle += 90\n",
        "    (h, w) = image.shape[:2]\n",
        "    center = (w // 2, h // 2)\n",
        "    rotation_matrix = cv2.getRotationMatrix2D(center, angle, 1.0)\n",
        "    rotated_image = cv2.warpAffine(image, rotation_matrix, (w, h), flags=cv2.INTER_CUBIC, borderMode=cv2.BORDER_REPLICATE)\n",
        "\n",
        "    return rotated_image\n",
        "\n",
        "def thin_font(image):\n",
        "  image = cv2.bitwise_not(image)\n",
        "  kernel = np.ones((2,2), np.uint8)\n",
        "  image = cv2.erode(image, kernel, iterations = 1)\n",
        "  image = cv2.bitwise_not(image)\n",
        "  return image \n",
        "\n",
        "def thick_font(image):\n",
        "  image = cv2.bitwise_not(image)\n",
        "  kernel = np.ones((2,2), np.uint8)\n",
        "  image = cv2.dilate(image, kernel, iterations = 1)\n",
        "  image = cv2.bitwise_not(image)\n",
        "  return image \n",
        "  "
      ]
    },
    {
      "cell_type": "markdown",
      "metadata": {
        "id": "lrh3UCH9j2K4"
      },
      "source": [
        "#### Pre-Processing of all Facturas"
      ]
    },
    {
      "cell_type": "code",
      "source": [
        "## Defined order of preprocessing steps\n",
        "## Pre-processed all images in a for loop and saved preprocessed images in a list\n",
        "\n",
        "preprocessed = []\n",
        "\n",
        "for i in tqdm(range(len(fact_images))): # tqdm used to show progress of computation\n",
        "  img = np.asarray(fact_images[i][0])\n",
        "    \n",
        "  resized = resize(img, 300)\n",
        "  rotated = rotate(resized)\n",
        "  contrasted = contrast(rotated)\n",
        "  removed_shadow = shadow(contrasted)\n",
        "  thresholded = threshold(removed_shadow) \n",
        "  sharpened = sharpen(thresholded) \n",
        "  denoised = noise_removal(sharpened) \n",
        "  thicked = thick_font(denoised)\n",
        "  final = thicked\n",
        "  preprocessed.append(final)\n",
        "\n",
        "## Saving all images in a single .npy file\n",
        "np.save(\"/content/drive/MyDrive/Pre-Processed/preprocessed_images.npy\", preprocessed)\n",
        "\n",
        "## 1st run:\n",
        "## Preprocesing with pipeline: resized, skew_corrected_image, contrasted, removed_shadow, thresholded, sharpened took 11:06 mins (4.44/it)\n",
        "## - No denoising, but with skew-correction\n",
        "## - Not updated with Silvia's functions\n",
        "\n",
        "## 2nd run:\n",
        "## Testing Silvia's preprocessing pipeline\n",
        "## resize, skew_corrected_image, contrasted, removed_shadow, thresholded, sharpened, denoised, thicked, thicked1\n",
        "## took 10:45 min (4.31s/it)\n",
        "\n",
        "## 3rd run:\n",
        "## Final pipeline\n",
        "## resized, rotated, contrasted, removed_shadow, thresholded, sharpened, denoised, thicked\n",
        "## Different rotation function seems to take a long time\n",
        "## took 33:51 min (13.55s/it)"
      ],
      "metadata": {
        "id": "2QIUXRsm0zJ2"
      },
      "execution_count": null,
      "outputs": []
    },
    {
      "cell_type": "markdown",
      "source": [
        "#### Loading pre-processed images"
      ],
      "metadata": {
        "id": "FOjik0uoqmXB"
      }
    },
    {
      "cell_type": "code",
      "source": [
        "# Load images from .npy file\n",
        "loaded_preprocessed_images_array = np.load(\"/content/drive/MyDrive/Pre-Processed/preprocessed_images.npy\", allow_pickle=True)\n",
        "preprocessed_loaded = list(loaded_preprocessed_images_array) # Convert the loaded NumPy array back into a list"
      ],
      "metadata": {
        "id": "3LdP8vg0prjw"
      },
      "execution_count": null,
      "outputs": []
    },
    {
      "cell_type": "code",
      "source": [
        "## Function to display preprocessed image in convenient format\n",
        "\n",
        "def display_image(image, width=800):\n",
        "    height = int(image.shape[0] / image.shape[1] * width)\n",
        "    display_img = cv2.resize(image, (width, height))\n",
        "    cv2_imshow(display_img)"
      ],
      "metadata": {
        "id": "mf2tfXSvuXs0"
      },
      "execution_count": null,
      "outputs": []
    },
    {
      "cell_type": "code",
      "source": [
        "#display_image(preprocessed_loaded[6])"
      ],
      "metadata": {
        "id": "oryBHA-T9X3W"
      },
      "execution_count": null,
      "outputs": []
    },
    {
      "cell_type": "markdown",
      "metadata": {
        "id": "9P5b_VQHwIke"
      },
      "source": [
        "# Read text with OCR"
      ]
    },
    {
      "cell_type": "markdown",
      "source": [
        "#### All Facturas after Pre-Processing - Reading text via OCR"
      ],
      "metadata": {
        "id": "0Y5XLqB-cnX0"
      }
    },
    {
      "cell_type": "code",
      "source": [
        "## Language set to Spanish, Confidence level >= 10%, PSM 4\n",
        "\n",
        "ocr_output = []\n",
        "\n",
        "for image in tqdm(preprocessed_loaded):\n",
        "  custom_config = '--psm 4' \n",
        "  df_1 = pytesseract.image_to_data(image, config=custom_config, lang='spa', output_type='data.frame')\n",
        "  df_2 = df_1[df_1.conf >= 10] # only getting output with >= XY% confidence\n",
        "  df = df_2.groupby(['block_num','line_num'])['text'].agg(lambda x: ' '.join(x.astype(str))).reset_index()\n",
        "  text = ''\n",
        "  for value in df['text']:\n",
        "    text += value + '\\n'\n",
        "  \n",
        "  ocr_output.append(text)\n",
        "\n",
        "\n",
        "# Save OCR results\n",
        "file_path = \"/content/drive/MyDrive/OCR_Output/ocr_output.pkl\"\n",
        "with open(file_path, \"wb\") as f:\n",
        "    pickle.dump(ocr_output, f)\n",
        "\n",
        "\n",
        "## 1st OCR run took 17:30 mins to read text from the 150 Facturas, i.e. 7.01s/it on average\n",
        "## 2nd OCR run took 15:11 mins, 6.08s/it on average\n",
        "## 3rd OCR run took 20:35mins, 8.24s/it"
      ],
      "metadata": {
        "id": "PJcK6AZiwH1T"
      },
      "execution_count": null,
      "outputs": []
    },
    {
      "cell_type": "code",
      "source": [
        "#ocr_output[100]"
      ],
      "metadata": {
        "id": "798MczR2vwtt"
      },
      "execution_count": null,
      "outputs": []
    },
    {
      "cell_type": "markdown",
      "source": [
        "#### Loading OCR-Output"
      ],
      "metadata": {
        "id": "U5pXch6Q2iEX"
      }
    },
    {
      "cell_type": "code",
      "source": [
        "# Load OCR results\n",
        "file_path = \"/content/drive/MyDrive/OCR_Output/ocr_output.pkl\"\n",
        "with open(file_path, \"rb\") as f:\n",
        "    ocr_output_loaded = pickle.load(f)"
      ],
      "metadata": {
        "id": "HR0zh3_F0cuf"
      },
      "execution_count": null,
      "outputs": []
    },
    {
      "cell_type": "code",
      "source": [
        "#ocr_output_loaded[100]"
      ],
      "metadata": {
        "id": "wktNTxrWw_uv"
      },
      "execution_count": null,
      "outputs": []
    },
    {
      "cell_type": "markdown",
      "source": [
        "#### All Facturas without Pre-Processing - Reading text via OCR"
      ],
      "metadata": {
        "id": "eeg1APKSctiA"
      }
    },
    {
      "cell_type": "code",
      "source": [
        "## Running OCR over all Facturas without having them preprocessed\n",
        "\n",
        "ocr_output_no_prep = []\n",
        "\n",
        "for fact in tqdm(fact_images):\n",
        "  image = fact[0]\n",
        "  custom_config = '--psm 4' \n",
        "  df_1 = pytesseract.image_to_data(image, config=custom_config, lang='spa', output_type='data.frame')\n",
        "  df_2 = df_1[df_1.conf >= 10] # only getting output with >= XY% confidence\n",
        "  df = df_2.groupby(['block_num','line_num'])['text'].agg(lambda x: ' '.join(x.astype(str))).reset_index()\n",
        "  text = ''\n",
        "  for value in df['text']:\n",
        "    text += value + '\\n'\n",
        "  \n",
        "  ocr_output_no_prep.append(text)\n",
        "\n",
        "## Running OCR on images without pre-processing is faster\n",
        "## Took 5:58 min in total, i.e. only 2.39s / it\n",
        "## Possible reason might be resizing (more information to read via OCR)"
      ],
      "metadata": {
        "id": "-zEnbGe-TwOI"
      },
      "execution_count": null,
      "outputs": []
    },
    {
      "cell_type": "markdown",
      "source": [
        "# Post-Processing / Information extraction"
      ],
      "metadata": {
        "id": "xtQQGms4x_N_"
      }
    },
    {
      "cell_type": "markdown",
      "source": [
        "#### All Facturas after Pre-Processing - Searching for Regex-Pattern"
      ],
      "metadata": {
        "id": "C4ncIerZbqa_"
      }
    },
    {
      "cell_type": "code",
      "source": [
        "## v17.04.\n",
        "\n",
        "## For all Facturas\n",
        "## Extract CIF and Invoice No. from all strings of ocr_output\n",
        "\n",
        "cifs_detected = []\n",
        "nos_detected = []\n",
        "\n",
        "for text in ocr_output_loaded:\n",
        "  string = text\n",
        "  ## Extract CIF via RegEx\n",
        "  # Keywords:  'N.I.F.', 'NIF', 'C.I.F.', 'CIF', 'DNI.'\n",
        "  # re.search() and re.match() return only the first occurance of a substring in the string and ignore others (https://www.geeksforgeeks.org/python-re-search-vs-re-match/)\n",
        "  pattern = r'(?:(N\\.I\\.F\\.|NIF|C\\.I\\.F\\.|CIF|CIF|DNI\\.)(?:\\s|:)*)(\\S+)'\n",
        "  match = re.search(pattern, string) \n",
        "  if match:\n",
        "    cif_detected = match.group(2)\n",
        "  else: \n",
        "    cif_detected = 'Not found'\n",
        "  cifs_detected.append(cif_detected)\n",
        "\n",
        "  ## Extract Invoice No. via RegEx\n",
        "  # Keywords: 'No RECIBO', 'N.FACTURA', 'FACTURA', 'Numero', 'FACTURA No.', 'No.', 'Albarán', 'Factura'\n",
        "  pattern = r'(?:(No RECIBO|N\\.FACTURA|FACTURA|Factura|Numero|FACTURA No\\.|No\\.|Albarán|SIMPLIFICADA|Pagado)(?:\\s|:)*)(\\S+)'\n",
        "  match = re.search(pattern, string)\n",
        "  if match:\n",
        "    no_detected = match.group(2)\n",
        "  else: \n",
        "    no_detected = 'Not found'\n",
        "  nos_detected.append(no_detected)\n",
        "\n",
        "\n",
        "## v1: r'(N\\.I\\.F\\.|NIF|C\\.I\\.F\\.|CIF|CIF|DNI\\.)..\\s*(\\S+)'\n",
        "## v2: r'(N\\.I\\.F\\.|NIF|C\\.I\\.F\\.|CIF|CIF|DNI\\.)\\s*(\\w{2})\\W*(\\S+)' ## terrible results\n",
        "## v3: r'(?:(N\\.I\\.F\\.|NIF|C\\.I\\.F\\.|CIF|CIF|DNI\\.)(?:\\s|:)*)(\\S+)' ## best results so far!!\n",
        "\n",
        "## v1: r'(No RECIBO|N\\.FACTURA|FACTURA|Factura|Numero|FACTURA No\\.|No\\.|Albarán)..\\s*(\\S+)'\n",
        "## v2: r'(No RECIBO|N\\.FACTURA|FACTURA|Factura|Numero|FACTURA No\\.|No\\.|Albarán)\\s*(\\w{2})\\W*(\\S+)' ## terrible results\n",
        "## v3: r'(?:(No RECIBO|N\\.FACTURA|FACTURA|Factura|Numero|FACTURA No\\.|No\\.|Albarán)(?:\\s|:)*)(\\S+)' ## best results so far!!"
      ],
      "metadata": {
        "id": "YJ7yLo2bnuTv"
      },
      "execution_count": null,
      "outputs": []
    },
    {
      "cell_type": "markdown",
      "source": [
        "# Validation"
      ],
      "metadata": {
        "id": "VNw5zYzA2Bi8"
      }
    },
    {
      "cell_type": "markdown",
      "source": [
        "#### All Facturas after Pre-Processing - Printing detected values"
      ],
      "metadata": {
        "id": "ww3MSG51Z9io"
      }
    },
    {
      "cell_type": "code",
      "source": [
        "#print(\"CIF's:\")\n",
        "#print(cifs_detected)\n",
        "#print(\"CIF retrieved in \",150-cifs_detected.count('Not found'),\"cases\")\n",
        "#print(\"CIF not found in \",cifs_detected.count('Not found'),\"cases\")\n",
        "#print(\"Invoice no.:\")\n",
        "#print(nos_detected)\n",
        "#print(\"Invoice no. retrieved in \",150-nos_detected.count('Not found'),\"cases\")\n",
        "#print(\"Invoice no. not found in \",nos_detected.count('Not found'),\"cases\")\n",
        "\n",
        "## 1st run with all Facturas and preprocessed images\n",
        "# CIF's:\n",
        "# ['Not found', 'Not found', 'Numero', 'Not found', 'Not found', 'Not found', 'NIF', 'Not found', 'Not found', 'SA28559573', 'ESA25999973', 'V87887881', 'ONO', 'Not found', 'Not found', 'V87887881', 'V87887881', 'NIF', 'Not found', 'Not found', 'Not found', 'Not found', 'IF', 'B7IJAT494', 'Not found', 'Not found', 'Not found', 'NIF', 'IF', 'Not found', '17418088', 'Not found', 'TEM', 'Not found', '862181409', 'Not found', 'SA28559573', 'Not found', 'Not found', 'Not found', 'Not found', 'B', 'NIF', 'Not found', 'ujeto', 'ujeto', 'ujeto', 'ujeto', 'Not found', 'IF', 'NIF', '850981057', 'E', 'IF', 'ujeto', 'B86054897', 'ESPAÑA', 'B', 'Not found', 'Not found', 'Not found', 'Not found', 'IF', 'Not found', 'Not found', 'Not found', 'Not found', 'B88058615', 'Not found', 'Not found', 'Not found', 'Not found', 'Not found', 'Not found', 'Not found', 'V87887881', 'B', 'A', 'Not found', 'Not found', '87887881', 'Not found', 'V87887881', 'Not found', 'V', 'Not found', 'Not found', 'Not found', 'Not found', 'Not found', '292', 'Not found', '87207486', 'B64774102', 'S', 'Not found', 'Not found', 'Not found', 'IF', 'Not found', 'VI7837881', 'V87887881', 'Not found', 'V87887881', 'Not found', 'Not found', 'Not found', 'Not found', '80', 'Not found', 'Not found', 'F', 'NIF', 'Not found', 'Not found', 'B72862642', 'IF', 'Not found', 'IF', 'ESA28559573', 'Not found', 'ACION', 'Not found', 'Not found', 'cálle', 'Not found', '88324090', '3', 'Not found', 'Not found', '0', 'Not found', 'IF', 'IF', '823709892', 'Not found', 'Not found', 'Not found', 'Not found', 'VA7387881', 'IF', 'B88324090', 'IF', 'A28425270', '88324090', 'Not found', 'NIF', 'B23709892', 'Not found', 'B23709892']\n",
        "# CIF retrieved in  72 cases\n",
        "# CIF not found in  78 cases\n",
        "# Invoice no.:\n",
        "# ['Not found', 'Not found', '39', 'e', 'Not found', 'Not found', 'Not found', 'Not found', 'Not found', 'Not found', 'Not found', 'Not found', 'Not found', 'Not found', 'Not found', 'Not found', 'Not found', 'Not found', 'Not found', 'Not found', 'Not found', 'Not found', 'Not found', 'Not found', 'Not found', 'Not found', 'onductor', 'Not found', 'Not found', 'TM051160', '000124', 'Not found', 'Not found', 'Not found', 'Not found', 'Not found', 'Not found', 'Not found', 'Not found', 'E', 'Not found', 'Not found', 'Not found', '17', 'Not found', 'Not found', 'Not found', 'el', 'Not found', 'Not found', 'Not found', '28', '04', 'Not found', 'Not found', 'IF', 'e', 'Not found', 'Not found', 'B831735629', '68633153', '68633153', 'actura', 'Not found', 'Not found', 'F230023', 'Not found', 'Not found', 'Not found', 'Not found', 'Not found', 'Not found', 'Not found', 'Not found', 'Not found', 'ECTIFICATIVA', 'Not found', 'O', '25', 'iF', 'IF', 'e', 'IF', 'IF', 'ECTIFICATIVA', 'e', '36', 'Not found', 'Not found', 'Not found', 'Not found', 'Not found', 'E', 'E', 'Not found', 'iF', 'Not found', 'Not found', 'Not found', 'Not found', 'F', 'Not found', 'Not found', 'Not found', 'Not found', 'Not found', 'Not found', 'Not found', 'IF', 'RDINARIA', 'IMPLIFICADA', 'IMPLIFICADA', '065', 'Not found', 'Not found', 'IF', 'actura', 'Not found', 'actura', 'Not found', 'Not found', '215425', 'Not found', 'Not found', 'IPLTELCAUA', 'ED', 'Not found', '59', 'Not found', 'Not found', 'Not found', 'Not found', 'Not found', 'actura', 'Not found', 'Not found', 'Not found', 'Not found', 'Not found', 'IMPLIFICADA', 'Not found', 'Not found', 'ÚMERO', 'Not found', 'LIENTE', 'Not found', 'Not found', 'NO', 'Not found', 'Not found']\n",
        "# Invoice no. retrieved in  49 cases\n",
        "# Invoice no. not found in  101 cases\n",
        "\n",
        "## 2nd run (Silvia's pre-processing pipeline)\n",
        "# CIF's:\n",
        "# ['Not found', 'Not found', 'Not found', 'Not found', 'Not found', 'Not found', 'NIF', 'Not found', 'Not found', 'ESA28559573', 'SA28559578', 'V87887881', 'Not found', 'Not found', 'B', 'V87887881', 'V87887881', 'NIF', 'Not found', 'Not found', 'Not found', 'Not found', '873347498', 'IF', 'Not found', 'Not found', 'Not found', 'NIF', 'IF', 'Not found', '17418088', 'Not found', 'TEN', 'Not found', 'BO2181409', 'Not found', 'SA28559573', 'Not found', 'Not found', 'Not found', 'Not found', 'B', 'NIF', 'Not found', 'ujeto', 'ujeto', 'ujeto', 'ujeto', 'Not found', 'IF', 'NIF', '860981057', 'V87887881', 'IF', 'ujeto', 'B86054897', 'V87887881', 'B', 'Not found', 'Not found', 'Not found', 'Not found', 'IF', 'Not found', 'Not found', 'Not found', 'Not found', 'B88058615', 'Not found', 'Not found', 'Not found', 'Not found', 'Not found', 'Not found', 'Not found', 'Not found', '8', 'A', 'Not found', 'Not found', 'V87887881', 'de', 'V87887', 'Not found', 'Numero', 'V87887881', 'A', 'Not found', 'Not found', 'Not found', '170968', 'Not found', '87207486', 'BS4774102', 'S', 'Not found', 'Not found', 'Not found', 'IF', 'Not found', 'VO7837881', 'V87887881', 'Not found', 'V87887881', 'Not found', 'BE092105', 'BE0931057', 'Not found', 'deas', 'Not found', 'Not found', 'F', 'NIF', 'Not found', '7492387', 'Not found', 'IF', 'Not found', 'IF', 'SA28559573', 'Not found', 'ACION', 'Not found', 'Not found', '137207486', 'Not found', '88324090', 'BO0S346176', 'Not found', 'Not found', 'Not found', 'Not found', 'EST', 'IF', 'B23709892', 'Not found', 'Not found', 'Not found', 'Not found', 'VB7387881', 'IF', 'B88324090', 'IF', 'A28425270', '88324090', 'NI', 'NIF', 'B237090892', '25166', '823709892']\n",
        "# CIF retrieved in  76 cases\n",
        "# CIF not found in  74 cases\n",
        "# Invoice no.:\n",
        "# ['Not found', 'Not found', '39', 'Not found', 'Not found', 'Not found', 'Not found', 'Not found', 'Not found', 'Not found', 'Not found', 'Not found', 'Not found', 'Not found', 'Not found', 'Not found', 'Not found', 'Not found', 'Not found', 'Not found', 'Not found', 'Not found', 'Not found', 'Not found', 'Not found', 'Not found', '9', 'Not found', 'Not found', 'TM05', '000124', 'Not found', 'Not found', 'Not found', 'Not found', 'Not found', 'Not found', 'Not found', 'Not found', 'E', 'Not found', 'Not found', 'Not found', '17', 'Not found', 'Not found', 'Not found', 'el', 'Not found', 'Not found', 'Not found', '28', '04', 'Not found', 'Not found', 'IF', 'Not found', 'Not found', 'Not found', 'B831735629', '564', '504', 'actura', 'Not found', 'Not found', 'F230023', 'Not found', 'Not found', 'Not found', 'Not found', 'Not found', 'Not found', 'Not found', 'Not found', 'Not found', 'F', 'Not found', '27', '25', 'iF', '50', 'IF', 'IF', 'Not found', 'IF', 'IF', 'Not found', 'Not found', 'Not found', 'Not found', 'Not found', 'Not found', 'E', 'Not found', 'Not found', '9', 'r', 'Not found', 'Not found', 'Not found', 'F', 'Not found', 'Not found', 'Not found', 'Not found', 'Not found', 'Not found', 'Not found', 'Not found', 'RDINARIA', 'IMPLIFICADA', 'Not found', 'Not found', 'Not found', 'Not found', 'IF', 'actura', 'Not found', 'actura', 'Not found', 'Not found', '215425', 'Not found', 'Not found', 'Not found', 'Not found', 'Not found', 'IF', 'Not found', 'Not found', 'Not found', 'Not found', 'Not found', 'actura', 'Not found', 'Not found', 'N', '70', 'Not found', 'IMPLIFICADA', 'Not found', 'l', 'ÚMERO', 'Not found', 'FACTURA', 'Not found', 'Not found', 'Not found', 'Not found', 'Not found']\n",
        "# Invoice no. retrieved in  42 cases\n",
        "# Invoice no. not found in  108 cases\n",
        "\n",
        "## 3rd run (Silvia's pipeline + added 'Factura' to RegEx)\n",
        "# CIF's:\n",
        "# ['Not found', 'Not found', 'Not found', 'Not found', 'Not found', 'Not found', 'NIF', 'Not found', 'Not found', 'ESA28559573', 'SA28559578', 'V87887881', 'Not found', 'Not found', 'B', 'V87887881', 'V87887881', 'NIF', 'Not found', 'Not found', 'Not found', 'Not found', '873347498', 'IF', 'Not found', 'Not found', 'Not found', 'NIF', 'IF', 'Not found', '17418088', 'Not found', 'TEN', 'Not found', 'BO2181409', 'Not found', 'SA28559573', 'Not found', 'Not found', 'Not found', 'Not found', 'B', 'NIF', 'Not found', 'ujeto', 'ujeto', 'ujeto', 'ujeto', 'Not found', 'IF', 'NIF', '860981057', 'V87887881', 'IF', 'ujeto', 'B86054897', 'V87887881', 'B', 'Not found', 'Not found', 'Not found', 'Not found', 'IF', 'Not found', 'Not found', 'Not found', 'Not found', 'B88058615', 'Not found', 'Not found', 'Not found', 'Not found', 'Not found', 'Not found', 'Not found', 'Not found', '8', 'A', 'Not found', 'Not found', 'V87887881', 'de', 'V87887', 'Not found', 'Numero', 'V87887881', 'A', 'Not found', 'Not found', 'Not found', '170968', 'Not found', '87207486', 'BS4774102', 'S', 'Not found', 'Not found', 'Not found', 'IF', 'Not found', 'VO7837881', 'V87887881', 'Not found', 'V87887881', 'Not found', 'BE092105', 'BE0931057', 'Not found', 'deas', 'Not found', 'Not found', 'F', 'NIF', 'Not found', '7492387', 'Not found', 'IF', 'Not found', 'IF', 'SA28559573', 'Not found', 'ACION', 'Not found', 'Not found', '137207486', 'Not found', '88324090', 'BO0S346176', 'Not found', 'Not found', 'Not found', 'Not found', 'EST', 'IF', 'B23709892', 'Not found', 'Not found', 'Not found', 'Not found', 'VB7387881', 'IF', 'B88324090', 'IF', 'A28425270', '88324090', 'NI', 'NIF', 'B237090892', '25166', '823709892']\n",
        "# CIF retrieved in  76 cases\n",
        "# CIF not found in  74 cases\n",
        "# Invoice no.:\n",
        "# ['Not found', 'Not found', '39', 'Not found', 'Not found', 'P30003632', 'Not found', 'Not found', 'Not found', 'Not found', 'Not found', '0', 'Not found', '00210', 'Not found', 'erie', 'erie', 'Not found', 'Not found', 'Not found', 'Not found', 'Not found', 'Not found', 'Not found', 'e', 'Not found', '9', 'Not found', 'Not found', 'TM05', '000124', 'Not found', 'Not found', 'Not found', 'Not found', 'Not found', 'Not found', 'Not found', 'implificada', 'E', 'Not found', 'Not found', 'Not found', 'úmero', 'Not found', 'Not found', 'Not found', 'el', 'implificada', 'implificada', 'Not found', '28', '04', 'Not found', 'Not found', 'IF', 'Not found', 'Not found', 'Not found', 'B831735629', '564', '504', 'actura', 'Not found', 'Not found', 'F230023', 'Not found', 'A', 'Not found', 'h', 'l', 'Not found', 'l', 'Not found', 'Not found', 'F', 'Not found', '27', '25', 'iF', '50', 'IF', 'IF', 'Not found', 'IF', 'IF', 'Not found', 'n', 'Not found', 'Not found', 'ompleta', 'Factura', 't', 'Not found', 'on', '9', 'r', 'Not found', 'Fecha', '845', 'F', '3', 'Not found', '1', 'Not found', 'Not found', 'Not found', 'Not found', 'Not found', 'RDINARIA', 'IMPLIFICADA', 'Not found', 'Not found', 'Not found', 'Not found', 'IF', 'actura', 'Not found', 'actura', 'Not found', 'Not found', '215425', 'Not found', 'echa', 'Not found', 'de', 'Not found', 'IF', 'Not found', 'Not found', 'Not found', 'Not found', 'Not found', 'actura', 'Not found', 'Not found', 'N', '70', 'Not found', 'IMPLIFICADA', 'Not found', 'l', 'ÚMERO', 'Fecha', 'FACTURA', 'Not found', 'Not found', 'Not found', 'Not found', 'Not found']\n",
        "# Invoice no. retrieved in  66 cases\n",
        "# Invoice no. not found in  84 cases\n",
        "\n",
        "## 4th run (final Pipeline, 17.04., including 'Factura')\n",
        "# CIF's:\n",
        "# ['Not found', 'Not found', 'Not found', 'Not found', '082900576', 'Not found', 'v87887881', 'Not found', 'Not found', 'Not found', 'Not found', 'V87887881', 'Not found', 'Not found', 'Not found', 'V87887881', 'V87887881', 'va7887881', 'Not found', 'Not found', 'Not found', 'Not found', '7347498', 'B73I347494', 'Not found', 'Not found', 'Not found', 'Ult', 'IF', 'Not found', '17418088', 'Not found', 'TIM', 'Not found', 'Descuyet', 'Not found', 'Not found', 'Not found', 'Not found', 'Not found', 'Not found', 'B', 'RIE', 'Not found', 'ujeto', 'ujeto', 'ujeto', 'ujeto', 'Not found', 'IF', 'NIF', 'Not found', 'Not found', 'NIF', 'ujeto', 'B86054897', 'V878897881', 'B', 'Not found', 'Not found', 'Not found', 'Not found', 'IF', 'Not found', 'Not found', 'Not found', 'Not found', 'B88058615', 'Not found', 'Not found', 'Not found', 'Not found', 'Not found', 'Not found', 'Not found', 'Not found', 'B', 'A', 'Not found', 'Not found', 'V87887881', 'Not found', 'V87887881', 'a', 'v', 'Not found', 'A', 'Not found', 'Domiciia', 'Not found', '292', 'Not found', 'B7207486', 'Not found', 'S', 'DO9816099', 'Not found', 'Not found', 'IF', 'Not found', 'CALLE', 'V87887881', 'Not found', 'V87887881', 'Not found', 'Not found', 'Not found', 'Not found', 'deas', 'Not found', 'Not found', 'F', 'NIF', 'Not found', '0749238', 'pa', 'IF', 'Not found', 'IF', 'ESA283199973', '03102', 'Not found', 'B', 'Not found', 'v87207906', 'VBT2DSIEB', '88324090', 'B0S346176', 'Not found', 'Not found', '033854091', 'Not found', 'MIF', 'IF', 'B23709892', 'Not found', 'Not found', 'Not found', 'Not found', 'VB7387881', 'IF', 'B88324090', 'IF', 'A28425270', '88324090', 'Not found', 'NIF', 'B23709892', 'Not found', '823709892']\n",
        "# CIF retrieved in  71 cases\n",
        "# CIF not found in  79 cases\n",
        "# Invoice no.:\n",
        "# ['Not found', 'Not found', '39', 'e', 'aó', 'P30003632', 'Not found', 'Not found', 'echo', 'Not found', 'Not found', 'Not found', 'Not found', 'Not found', 'Not found', 'erie', 'erie', 'Not found', 'Not found', 'Not found', 'Not found', 'Not found', 'Not found', 'Not found', 'e', 'Not found', 'avos', 'Not found', 'Not found', 'TM051160', '000124', 'Not found', 'Not found', 'Not found', 'Not found', 'Not found', 'Not found', 'Not found', 'implificada', 'E', 'Not found', 'Not found', 'Not found', 'úmero', 'Not found', 'Not found', 'Not found', 'Not found', 'implificada', 'implificada', 'Not found', 'Not found', '04', 'Not found', 'Not found', 'IF', 'e', 'ds', 'Not found', 'B831735629', '564', '504', 'actura', 'j', 'Not found', 'F230023', 'Not found', 'A', 'Not found', 'e', 'Not found', 'Not found', 'l', 'Not found', 'Not found', 'i', 'Not found', '27', '25', 'iF', 'IF', 'e', 'IF', 'IF', 'ECTIFICATIVA', 'Not found', '27', 'mn', 'Not found', 'Not found', 'ompleta', 'Factura', 'T2023', 'l', 'on', '9', 'Not found', 'Not found', 'actura', 'F', 'F', '3', 'Not found', '1', 'Not found', 'Not found', 'Not found', 'Not found', 'iF', 'RDINARIA', 'IMPLIFICADA', 'IMPLIFICADA', 'Not found', 'Not found', 'Not found', 'IF', 'actura', 'Not found', 'actura', 'Not found', 'on', '215425', 'Not found', 'echa', 'Not found', 'Not found', 'Not found', '59', 'Not found', 'Not found', 'Not found', 'Not found', 'Not found', 'actura', 'Not found', 'Not found', 'Not found', 'a', 'Not found', 'IMPLIFICADA', 'Not found', 'Centro', 'ÚMERO', 'Focha', 'FACTURA', 'Not found', 'Not found', 'Not found', 'Not found', 'Not found']\n",
        "# Invoice no. retrieved in  69 cases\n",
        "# Invoice no. not found in  81 cases\n",
        "\n",
        "## 5th run (17.04. with S+)\n",
        "# CIF's:\n",
        "# ['Not found', 'Not found', 'Not found', 'Not found', '082900576', 'Not found', 'v87887881', 'Not found', 'Not found', 'Not found', 'Not found', 'V87887881', 'Not found', 'Not found', '-88580329', 'V87887881', 'V87887881', 'va7887881', 'Not found', 'Not found', 'Not found', 'Not found', '7347498', 'B73I347494', 'Not found', 'Not found', 'Not found', '....', 'IF:', '-88580329', '17418088', 'Not found', 'TIM:', 'Not found', 'Descuyet', 'Not found', 'Not found', 'Not found', 'Not found', '(ES)A84330133', 'Not found', 'B-81089047', 'RIE:', 'Not found', 'ujeto', 'ujeto', 'ujeto', 'ujeto', 'Not found', 'IF.', '.....', 'Not found', 'Not found', 'NIF:', 'ujeto', 'B86054897', 'V878897881', 'B-82819608', 'Not found', 'Not found', 'Not found', 'Not found', 'IF:', 'Not found', 'Not found', 'Not found', 'Not found', 'B88058615', 'Not found', 'Not found', 'Not found', 'Not found', 'Not found', '/28081832', 'Not found', 'Not found', 'B-87110631', 'A-79209854', 'Not found', 'Not found', 'V87887881', 'Not found', 'V87887881', 'a', 'v', '—', 'A:78208854', 'Not found', 'Domiciia.', 'Not found', '292', 'Not found', 'B7207486', 'Not found', 'S', 'DO9816099', 'Not found', 'Not found', 'IF:', 'Not found', 'CALLE', 'V87887881', 'Not found', 'V87887881', 'Not found', 'Not found', 'Not found', 'Not found', 'deas', 'Not found', 'Not found', 'F-20033361', 'NIF:', 'Not found', '0749238', 'pa', 'IF:', 'Not found', 'IF:', 'ESA283199973', '03102', 'Not found', 'B-40165995', 'Not found', 'v87207906', 'VBT2DSIEB', '/NIF:B88324090', 'B0S346176', 'Not found', 'Not found', '033854091', 'Not found', 'MIF:', 'IF:', 'B23709892', 'Not found', 'Not found', 'Not found', 'Not found', 'VB7387881', 'IF:', 'B88324090', 'IF:', 'A28425270', '88324090', 'Not found', 'NIF:', 'B23709892', 'Not found', '823709892']\n",
        "# CIF retrieved in  76 cases\n",
        "# CIF not found in  74 cases\n",
        "# Invoice no.:\n",
        "# ['Not found', 'Not found', '39-0003-1', 'e', 'aó', 'P30003632', 'Not found', 'Not found', 'echo', 'Not found', 'Not found', '%:', '*', 'Not found', 'Not found', 'erie', 'erie', 'Not found', 'Not found', 'Not found', 'Not found', 'Not found', 'Not found', 'Not found', 'e', 'Not found', 'avos', 'Not found', 'Not found', 'TM051160', '000124', 'Not found', 'Not found', 'Not found', '*', 'Not found', 'Not found', 'Not found', 'implificada', 'E', 'Not found', 'Not found', 'Not found', 'úmero:', 'Not found', 'Not found', 'Not found', 'Not found', 'implificada', 'implificada:', 'Not found', 'Not found', '04-0003-890266', 'Not found', 'Not found', 'IF', 'e', 'ds.', 'Not found', 'B831735629', '564', '504', 'actura:', 'j', 'Not found', 'F230023', 'Not found', 'A-V2023-00001229390', 'Not found', 'e', 'Not found', 'Not found', 'l.', 'Not found', 'Not found', 'i', 'Not found', '27-03-2003', '25-0003-054485', 'iF', 'IF', 'e', 'IF', 'IF', 'ECTIFICATIVA', 'Not found', '27-03-2005', 'mn”', 'Not found', \"'*\", 'ompleta', 'Factura', ':', 'l', 'on', '9', 'Not found', '.', 'actura:', 'F', 'F-SA-TF-2023-015769', '%:', 'Not found', '%:', 'Not found', 'Not found', 'Not found', 'Not found', 'iF', 'RDINARIA', 'IMPLIFICADA', 'IMPLIFICADA', 'Not found', 'Not found', 'Not found', 'IF', 'actura:', 'Not found', 'actura:', 'Not found', 'on', '215425', 'Not found', 'echa', 'Not found', 'Not found', 'Not found', '59-0003-171625', 'Not found', 'Not found', '*.', 'Not found', 'Not found', 'actura:', 'Not found', '?:', '|', 'a', 'Not found', 'IMPLIFICADA:', 'Not found', 'Centro:', 'ÚMERO:', 'Focha', 'FACTURA', 'Not found', 'Not found', 'Not found', 'Not found', 'Not found']\n",
        "# Invoice no. retrieved in  77 cases\n",
        "# # Invoice no. not found in  73 cases\n",
        "\n",
        "##6th run GPT4\n",
        "# CIF's:\n",
        "# ['Not found', 'Not found', 'Not found', 'Not found', '082900576', 'Not found', 'v87887881', 'Not found', 'Not found', 'Not found', 'Not found', 'V87887881', 'Not found', 'Not found', 'B-88580329', 'V87887881', 'V87887881', 'va7887881', 'Not found', 'Not found', 'Not found', 'Not found', '87347498', '.', 'Not found', 'Not found', 'Not found', '......', '/NIF:', 'B-88580329', 'B17418088', 'Not found', 'TIM:', 'Not found', 'Descuyet', 'Not found', 'Not found', 'Not found', 'Not found', '(ES)A84330133', 'Not found', 'B-81089047', 'O', 'Not found', 'sujeto', 'sujeto', 'sujeto', 'sujeto', 'Not found', '/NIF.', '.', 'Not found', 'Not found', '/NIF:', 'sujeto', 'B86054897', 'V878897881', 'B-82819608', 'Not found', 'Not found', 'Not found', 'Not found', '/CIF:', 'Not found', 'Not found', 'Not found', 'Not found', 'B88058615', 'Not found', 'Not found', 'Not found', 'Not found', 'Not found', 'A/28081832', 'Not found', '=', 'B-87110631', 'A-79209854', 'Numero', 'Not found', 'V87887881', \"'umero\", 'V87887881', '.', '-v', '—', 'A:78208854', 'Not found', 'Domiciia.', 'Not found', '1', 'Not found', 'VB7207486', 'Not found', 'ES', '-', 'Not found', 'Not found', '/CIF:', 'Not found', '.', 'V87887881', 'Not found', 'V87887881', 'Not found', 'Not found', ':', 'Not found', 'ideas', 'Not found', 'Not found', 'F-20033361', 'o', 'Not found', '0749238', 'pa', '/CIF:', 'Not found', '/CIF:', 'ESA283199973', '03102', 'Not found', 'B-40165995', 'Not found', 'v87207906', 'VBT2DSIEB', '/NIF:B88324090', 'B0S346176', 'Not found', 'Not found', '033854091', 'Not found', 'o', '/CIF:', 'B23709892', 'Not found', 'Not found', 'Not found', 'Not found', 'VB7387881', '/CIF:', 'B88324090', '/CIF:', 'A28425270', 'B88324090', 'Not found', 'o', 'B23709892', 'Not found', '823709892']\n",
        "# CIF retrieved in  80 cases\n",
        "# CIF not found in  70 cases\n",
        "# Invoice no.:\n",
        "# ['Not found', 'Not found', '039-0003-1', 'de', 'faó', 'BP30003632', 'Not found', 'FE', '¿echo', 'FE', 'FE', 'N%:', 'N*', 'Not found', 'Not found', 'Serie', 'Serie', 'IDENTIFICACIÓN', 'Not found', 'Not found', 'Not found', 'Not found', 'ramos]', 'or]', 'de', 'Not found', 'Davos', 'Not found', 'Not found', 'TM051160', '000124', 'Not found', 'Not found', 'Not found', 'n*', 'Not found', 'FE', 'Not found', 'Simplificada', 'DE', 'Not found', 'Not found', 'Not found', 'Número:', 'Pagado', 'Pagado', 'Pagado', 'Pagado', 'Simplificada', 'Simplificada:', '-', 'Not found', '004-0003-890266', 'Not found', 'Pagado', 'ORIGINAL', 'de', 'Uds.', 'Not found', 'GB831735629', '564', '504', 'Factura:', 'aj', 'Not found', '£F230023', 'Not found', 'A-V2023-00001229390', 'Not found', 'de', 'Not found', 'Not found', 'nl.', 'Not found', 'Not found', 'Ni', 'Not found', '27-03-2003', '025-0003-054485', 'NiF', 'NIF', 'de', 'NIF', 'NIF', 'RECTIFICATIVA', 'Not found', '27-03-2005', 'mn”', 'Not found', \"N'*\", 'E', 'N', 'a', 'Ol', 'con', '09', 'Not found', 'W.', 'Factura:', 'CF', 'F-SA-TF-2023-015769', 'N%:', 'Not found', 'N%:', 'Not found', 'Not found', 'Not found', 'Not found', 'NiF', 'ORDINARIA', 'SIMPLIFICADA', 'SIMPLIFICADA', 'Not found', 'Not found', 'Not found', 'NIF', 'Factura:', 'Not found', 'Factura:', 'Not found', 'tion', '215425', 'Not found', 'IM', 'Not found', 'Not found', 'Adquiriente', '259-0003-171625', 'Not found', 'Not found', 'N*.', 'Not found', 'Not found', 'Factura:', 'Not found', 'N?:', '|', 'a', 'Not found', 'SIMPLIFICADA:', 'Not found', 'Centro:', 'MÚMERO:', 'Carrefour', 'C', 'Not found', 'Not found', 'N%:', 'Not found', 'Not found']\n",
        "# Invoice no. retrieved in  92 cases\n",
        "# Invoice no. not found in  58 cases\n",
        "\n",
        "##7th\n",
        "# CIF's:\n",
        "# ['Not found', 'Not found', 'Not found', 'Not found', '082900576', 'Not found', 'v87887881', 'Not found', 'Not found', 'Not found', 'Not found', 'V87887881', 'Not found', 'Not found', 'B-88580329', 'V87887881', 'V87887881', 'va7887881', 'Not found', 'Not found', 'Not found', 'Not found', '87347498', '.', 'Not found', 'Not found', 'Not found', '......', '/NIF:', 'B-88580329', 'B17418088', 'Not found', 'TIM:', 'Not found', 'Descuyet', 'Not found', 'Not found', 'Not found', 'Not found', '(ES)A84330133', 'Not found', 'B-81089047', 'O', 'Not found', 'sujeto', 'sujeto', 'sujeto', 'sujeto', 'Not found', '/NIF.', '.', 'Not found', 'Not found', '/NIF:', 'sujeto', 'B86054897', 'V878897881', 'B-82819608', 'Not found', 'Not found', 'Not found', 'Not found', '/CIF:', 'Not found', 'Not found', 'Not found', 'Not found', 'B88058615', 'Not found', 'Not found', 'Not found', 'Not found', 'Not found', 'A/28081832', 'Not found', '=', 'B-87110631', 'A-79209854', 'Numero', 'Not found', 'V87887881', \"'umero\", 'V87887881', '.', '-v', '—', 'A:78208854', 'Not found', 'Domiciia.', 'Not found', '1', 'Not found', 'VB7207486', 'Not found', 'ES', '-', 'Not found', 'Not found', '/CIF:', 'Not found', '.', 'V87887881', 'Not found', 'V87887881', 'Not found', 'Not found', ':', 'Not found', 'ideas', 'Not found', 'Not found', 'F-20033361', 'o', 'Not found', '0749238', 'pa', '/CIF:', 'Not found', '/CIF:', 'ESA283199973', '03102', 'Not found', 'B-40165995', 'Not found', 'v87207906', 'VBT2DSIEB', '/NIF:B88324090', 'B0S346176', 'Not found', 'Not found', '033854091', 'Not found', 'o', '/CIF:', 'B23709892', 'Not found', 'Not found', 'Not found', 'Not found', 'VB7387881', '/CIF:', 'B88324090', '/CIF:', 'A28425270', 'B88324090', 'Not found', 'o', 'B23709892', 'Not found', '823709892']\n",
        "# CIF retrieved in  80 cases\n",
        "# CIF not found in  70 cases\n",
        "# Invoice no.:\n",
        "# ['Not found', 'Not found', '039-0003-1', 'de', 'faó', 'BP30003632', 'Not found', 'FE', '¿echo', 'FE', 'FE', 'N%:', 'N*', 'Not found', 'Not found', 'Serie', 'Serie', 'IDENTIFICACIÓN', 'Not found', 'Not found', 'Not found', 'Not found', 'ramos]', 'or]', 'de', 'Not found', 'Davos', 'Not found', 'Not found', 'TM051160', '000124', 'Not found', 'Not found', 'Not found', 'n*', 'Not found', 'FE', 'Not found', 'Simplificada', 'DE', 'Not found', '135,01', 'Not found', 'Número:', 'Pagado', 'Pagado', 'Pagado', 'Pagado', 'Simplificada', 'Simplificada:', '-', 'Not found', '004-0003-890266', 'Not found', 'Pagado', 'ORIGINAL', 'de', 'Uds.', 'Not found', 'GB831735629', '564', '504', 'Factura:', 'aj', 'Not found', '£F230023', 'Not found', 'A-V2023-00001229390', 'Not found', 'de', 'Not found', 'Not found', 'nl.', 'Not found', 'Not found', 'Ni', 'Not found', '27-03-2003', '025-0003-054485', 'NiF', 'NIF', 'de', 'NIF', 'NIF', 'RECTIFICATIVA', 'Not found', '27-03-2005', 'mn”', 'Not found', \"N'*\", 'E', 'N', 'a', 'Ol', 'con', '09', 'Not found', 'W.', 'Factura:', 'CF', 'F-SA-TF-2023-015769', 'N%:', 'Not found', 'N%:', 'Not found', 'Not found', 'Not found', 'Not found', 'NiF', 'ORDINARIA', 'SIMPLIFICADA', 'SIMPLIFICADA', 'Not found', 'Not found', 'Not found', 'NIF', 'Factura:', 'Not found', 'Factura:', 'Not found', 'tion', '215425', 'Not found', 'IM', 'Not found', 'Not found', 'Adquiriente', '259-0003-171625', 'Not found', 'Not found', 'N*.', 'Not found', 'Not found', 'Factura:', 'Not found', 'N?:', '|', 'a', 'Not found', 'SIMPLIFICADA:', 'Not found', 'Centro:', 'MÚMERO:', 'Carrefour', 'C', 'Not found', 'Not found', 'N%:', 'Not found', 'Not found']\n",
        "# Invoice no. retrieved in  93 cases\n",
        "# Invoice no. not found in  57 cases"
      ],
      "metadata": {
        "id": "j5_YavuwFPNc"
      },
      "execution_count": null,
      "outputs": []
    },
    {
      "cell_type": "markdown",
      "source": [
        "#### All Facturas after Pre-Processing - Validating detected values"
      ],
      "metadata": {
        "id": "usBpwN3ebQq_"
      }
    },
    {
      "cell_type": "code",
      "source": [
        "## For all Facturas\n",
        "\n",
        "# Getting labels for all facturas in same order as files loaded\n",
        "# Comparing each label with output from information extraction\n",
        "# Counting correct matches for CIF no's\n",
        "# Counting correct matches for Invoice no's\n",
        "\n",
        "cifs = []  \n",
        "cif_validation = []\n",
        "\n",
        "docs = []\n",
        "doc_validation = []\n",
        "\n",
        "for i in range(len(fact_images)):\n",
        "\n",
        "  cif = fact_labels.loc[fact_labels['expense_id'] == fact_expense_ids[i],'supplier_cif'].values[0] # Labels from csv are in different order than in GDrive -> I searching the labels dataframe via the expense ID (from drive)\n",
        "  cifs.append(cif) # putting the cifs (labels) into a list -> now in same order than loaded image files from drive\n",
        "\n",
        "  cif_check = cif == cifs_detected[i] # comparing label with deteced cif\n",
        "  cif_validation.append(cif_check)\n",
        "  \n",
        "  document_no = fact_labels.loc[fact_labels['expense_id'] == fact_expense_ids[i],'supplier_document_number'].values[0]\n",
        "  docs.append(document_no)\n",
        "\n",
        "  doc_check = document_no == nos_detected[i]\n",
        "  doc_validation.append(doc_check)\n",
        "\n",
        "\n",
        "#print(cif_validation)\n",
        "#print(doc_validation)\n",
        "#print(\"Correct cif's: \",cif_validation.count(True))\n",
        "#print(\"Correct cif's: \",cif_validation.count(True)/len(cif_validation)*100, \"%\")\n",
        "#print(\"Correct document no's: \",doc_validation.count(True))\n",
        "#print(\"Correct document no's: \",doc_validation.count(True)/len(doc_validation)*100,\"%\")\n",
        "\n",
        "\n",
        "## 1st run with all Facturas and preprocessed images\n",
        "## 4/150 Cif's detected correctly (label matches extracted value)\n",
        "## 2/150 Invoice document no's detected correctly (label matches extracted value)\n",
        "# [False, False, False, False, False, False, False, False, False, False, False, False, False, False, False, False, False, False, False, False, False, False, False, False, False, False, False, False, False, False, False, False, False, False, False, False, False, False, False, False, False, False, False, False, False, False, False, False, False, False, False, False, False, False, False, False, False, False, False, False, False, False, False, False, False, False, False, False, False, False, False, False, False, False, False, False, False, False, False, False, False, False, False, False, False, False, False, False, False, False, False, False, False, True, False, False, False, False, False, False, False, False, False, False, False, False, False, False, False, False, False, False, False, False, False, False, False, False, False, False, False, False, False, False, False, False, False, False, False, False, False, False, False, False, False, False, False, False, False, False, False, False, False, True, False, False, False, True, False, True]\n",
        "# [False, False, False, False, False, False, False, False, False, False, False, False, False, False, False, False, False, False, False, False, False, False, False, False, False, False, False, False, False, True, False, False, False, False, False, False, False, False, False, False, False, False, False, False, False, False, False, False, False, False, False, False, False, False, False, False, False, False, False, False, False, False, False, False, False, False, False, False, False, False, False, False, False, False, False, False, False, False, False, False, False, False, False, False, False, False, False, False, False, False, False, False, False, False, False, False, False, False, False, False, False, False, False, False, False, False, False, False, False, False, False, False, False, False, False, False, False, False, False, False, False, True, False, False, False, False, False, False, False, False, False, False, False, False, False, False, False, False, False, False, False, False, False, False, False, False, False, False, False, False]\n",
        "# Correct cif's:  4\n",
        "# Correct cif's:  2.666666666666667 %\n",
        "# Correct document no's:  2\n",
        "# Correct document no's:  1.3333333333333335 %\n",
        "\n",
        "## 2nd run (Silvia's pre-processing pipeline)\n",
        "# [False, False, False, False, False, False, False, False, False, False, False, False, False, False, False, False, False, False, False, False, False, False, False, False, False, False, False, False, False, False, False, False, False, False, False, False, False, False, False, False, False, False, False, False, False, False, False, False, False, False, False, False, False, False, False, False, False, False, False, False, False, False, False, False, False, False, False, False, False, False, False, False, False, False, False, False, False, False, False, False, False, False, False, False, False, False, False, False, False, False, False, False, False, False, False, False, False, False, False, False, False, False, False, False, False, False, False, False, False, False, False, False, False, False, False, False, False, False, False, False, False, False, False, False, False, False, False, False, False, False, False, False, False, False, True, False, False, False, False, False, False, False, False, True, False, False, False, False, False, False]\n",
        "# [False, False, False, False, False, False, False, False, False, False, False, False, False, False, False, False, False, False, False, False, False, False, False, False, False, False, False, False, False, False, False, False, False, False, False, False, False, False, False, False, False, False, False, False, False, False, False, False, False, False, False, False, False, False, False, False, False, False, False, False, False, False, False, False, False, False, False, False, False, False, False, False, False, False, False, False, False, False, False, False, False, False, False, False, False, False, False, False, False, False, False, False, False, False, False, False, False, False, False, False, False, False, False, False, False, False, False, False, False, False, False, False, False, False, False, False, False, False, False, False, False, True, False, False, False, False, False, False, False, False, False, False, False, False, False, False, False, False, False, False, False, False, False, False, False, False, False, False, False, False]\n",
        "# Correct cif's:  2\n",
        "# Correct cif's:  1.3333333333333335 %\n",
        "# Correct document no's:  1\n",
        "# Correct document no's:  0.6666666666666667 %\n",
        "\n",
        "## 3rd run (final pipeline)\n",
        "# [False, False, False, False, False, False, False, False, False, False, False, False, False, False, False, False, False, False, False, False, False, False, False, False, False, False, False, False, False, False, False, False, False, False, False, False, False, False, False, False, False, False, False, False, False, False, False, False, False, False, False, False, False, False, False, False, False, False, False, False, False, False, False, False, False, False, False, False, False, False, False, False, False, False, False, False, False, False, False, False, False, False, False, False, False, False, False, False, False, False, False, False, False, False, False, False, False, False, False, False, False, False, False, False, False, False, False, False, False, False, False, False, False, False, False, False, False, False, False, False, False, False, False, False, False, False, False, False, False, False, False, False, False, False, True, False, False, False, False, False, False, False, False, True, False, False, False, True, False, False]\n",
        "# [False, False, False, False, False, False, False, False, False, False, False, False, False, False, False, False, False, False, False, False, False, False, False, False, False, False, False, False, False, True, False, False, False, False, False, False, False, False, False, False, False, False, False, False, False, False, False, False, False, False, False, False, False, False, False, False, False, False, False, False, False, False, False, False, False, False, False, False, False, False, False, False, False, False, False, False, False, False, False, False, False, False, False, False, False, False, False, False, False, False, False, False, False, False, False, False, False, False, False, False, False, False, False, False, False, False, False, False, False, False, False, False, False, False, False, False, False, False, False, False, False, True, False, False, False, False, False, False, False, False, False, False, False, False, False, False, False, False, False, False, False, False, False, False, False, False, False, False, False, False]\n",
        "# Correct cif's:  3\n",
        "# Correct cif's:  2.0 %\n",
        "# Correct document no's:  2\n",
        "# Correct document no's:  1.3333333333333335 %\n",
        "\n",
        "## GPT4\n",
        "# [False, False, False, False, False, False, False, False, False, False, False, False, False, False, False, False, False, False, False, False, False, False, False, False, False, False, False, False, False, False, True, False, False, False, False, False, False, False, False, False, False, False, False, False, False, False, False, False, False, False, False, False, False, False, False, False, False, False, False, False, False, False, False, False, False, False, False, False, False, False, False, False, False, False, False, False, False, False, False, False, False, False, False, False, False, False, False, False, False, False, False, False, False, False, False, False, False, False, False, False, False, False, False, False, False, False, False, False, False, False, False, False, False, False, False, False, False, False, False, False, False, False, False, False, False, False, False, False, False, False, False, False, False, False, True, False, False, False, False, False, False, False, False, True, False, False, False, True, False, False]\n",
        "# [False, False, False, False, False, True, False, False, False, False, False, False, False, False, False, False, False, False, False, False, False, False, False, False, False, False, False, False, False, True, False, False, False, False, False, False, False, False, False, False, False, False, False, False, False, False, False, False, False, False, False, False, True, False, False, False, False, False, False, False, False, False, False, False, False, False, False, True, False, False, False, False, False, False, False, False, False, False, True, False, False, False, False, False, False, False, False, False, False, False, False, False, False, False, False, False, False, False, False, False, False, False, False, False, False, False, False, False, False, False, False, False, False, False, False, False, False, False, False, False, False, True, False, False, False, False, False, True, False, False, False, False, False, False, False, False, False, False, False, False, False, False, False, False, False, False, False, False, False, False]\n",
        "# Correct cif's:  4\n",
        "# Correct cif's:  2.666666666666667 %\n",
        "# Correct document no's:  7\n",
        "# Correct document no's:  4.666666666666667 %\n"
      ],
      "metadata": {
        "id": "B2cUcsWwRRHy"
      },
      "execution_count": null,
      "outputs": []
    },
    {
      "cell_type": "code",
      "source": [
        "## For all Facturas without pre-processing\n",
        "\n",
        "# Getting labels for all facturas in same order as files loaded\n",
        "# Comparing each label with output from information extraction\n",
        "# Counting correct matches for CIF no's\n",
        "# Counting correct matches for Invoice no's\n",
        "\n",
        "cifs = []  \n",
        "cif_validation = []\n",
        "\n",
        "docs = []\n",
        "doc_validation = []\n",
        "\n",
        "for i in range(len(fact_images)):\n",
        "\n",
        "  cif = fact_labels.loc[fact_labels['expense_id'] == fact_expense_ids[i],'supplier_cif'].values[0] # Labels from csv are in different order than in GDrive -> I searching the labels dataframe via the expense ID (from drive)\n",
        "  cifs.append(cif) # putting the cifs (labels) into a list -> now in same order than loaded image files from drive\n",
        "\n",
        "  cif_check = cif == cifs_detected_no_prep[i] # comparing label with deteced cif\n",
        "  cif_validation.append(cif_check)\n",
        "  \n",
        "  document_no = fact_labels.loc[fact_labels['expense_id'] == fact_expense_ids[i],'supplier_document_number'].values[0]\n",
        "  docs.append(document_no)\n",
        "\n",
        "  doc_check = document_no == nos_detected_no_prep[i]\n",
        "  doc_validation.append(doc_check)\n",
        "\n",
        "\n",
        "print(cif_validation)\n",
        "print(doc_validation)\n",
        "print(\"Correct cif's: \",cif_validation.count(True))\n",
        "print(\"Correct cif's: \",cif_validation.count(True)/len(cif_validation)*100, \"%\")\n",
        "print(\"Correct document no's: \",doc_validation.count(True))\n",
        "print(\"Correct document no's: \",doc_validation.count(True)/len(doc_validation)*100,\"%\")\n",
        "\n",
        "\n",
        "## Results without pre-processing\n",
        "# [False, False, False, False, False, False, False, False, False, False, False, False, False, False, False, False, False, False, False, False, False, False, False, False, False, False, False, False, False, False, False, False, False, False, False, False, False, False, False, False, False, False, False, False, False, False, False, False, False, False, False, False, False, False, False, False, False, False, False, False, False, False, False, False, False, False, False, False, False, False, False, False, False, False, False, False, False, False, False, False, False, False, False, False, False, False, False, False, False, False, False, False, False, False, False, False, False, False, False, False, False, False, False, False, False, False, False, False, False, False, False, False, False, False, False, False, False, False, False, False, False, False, False, False, False, False, False, False, False, False, False, False, False, False, False, False, False, False, False, False, False, False, False, False, False, False, False, False, False, True]\n",
        "# [False, False, False, False, False, False, False, False, False, False, False, False, False, False, False, False, False, False, False, False, False, False, False, False, False, False, False, False, False, False, False, False, False, False, False, False, False, False, False, False, False, False, False, False, False, False, False, False, False, False, False, False, False, False, False, False, False, False, False, False, False, False, False, False, False, False, False, False, False, False, False, False, False, False, False, False, False, False, False, False, False, False, False, False, False, False, False, False, False, False, False, False, False, False, False, False, False, False, False, False, False, False, False, False, False, False, False, False, False, False, False, False, False, False, False, False, False, False, False, False, False, False, False, False, False, False, False, False, False, False, False, False, False, False, False, False, False, False, False, False, False, False, False, False, False, False, False, False, False, False]\n",
        "# Correct cif's:  1\n",
        "# Correct cif's:  0.6666666666666667 %\n",
        "# Correct document no's:  0\n",
        "# Correct document no's:  0.0 %"
      ],
      "metadata": {
        "id": "eVCdNHovYf5F"
      },
      "execution_count": null,
      "outputs": []
    },
    {
      "cell_type": "markdown",
      "source": [
        "###Validating OCR output"
      ],
      "metadata": {
        "id": "9s89mAM7xyQp"
      }
    },
    {
      "cell_type": "code",
      "source": [
        "def count_labels_in_ocr(ocr_output_loaded, labels):\n",
        "    if len(ocr_output_loaded) != len(labels):\n",
        "        raise ValueError(\"Both lists must have the same length.\")\n",
        "\n",
        "    count = 0\n",
        "    for ocr_output, label in zip(ocr_output_loaded, labels):\n",
        "        count += ocr_output.count(label)\n",
        "    return count"
      ],
      "metadata": {
        "id": "KNHLydV-xwc7"
      },
      "execution_count": null,
      "outputs": []
    },
    {
      "cell_type": "code",
      "source": [
        "result_1 = count_labels_in_ocr(ocr_output_loaded, cifs)\n",
        "print(f\"CIFs found {result_1} times in the OCR outputs.\")\n",
        "\n",
        "result_2 = count_labels_in_ocr(ocr_output_loaded, docs)\n",
        "print(f\"Invoice no. found {result_2} times in the OCR outputs.\")"
      ],
      "metadata": {
        "id": "1h4OipGaxwnw"
      },
      "execution_count": null,
      "outputs": []
    },
    {
      "cell_type": "markdown",
      "source": [
        "#### Inspecting results\n"
      ],
      "metadata": {
        "id": "OM9AOThX9uEZ"
      }
    },
    {
      "cell_type": "code",
      "source": [
        "def inspect(no):\n",
        "  print(\"cifs_detected: \", cifs_detected[no])\n",
        "  print(\"nos_detected: \", nos_detected[no])\n",
        "  print(\"OCR-Output: \", ocr_output_loaded[no])\n",
        "  print(display_image(preprocessed_loaded[no]))\n",
        "  return show_fact(no)"
      ],
      "metadata": {
        "id": "DNNBjw9K9xx3"
      },
      "execution_count": null,
      "outputs": []
    },
    {
      "cell_type": "code",
      "source": [
        "#inspect(6)"
      ],
      "metadata": {
        "id": "6EGV0X-fHhS7"
      },
      "execution_count": null,
      "outputs": []
    }
  ],
  "metadata": {
    "colab": {
      "provenance": [],
      "collapsed_sections": [
        "5sQraqXMuZ-7",
        "W4563i4vunhn",
        "ckKPDomAzs0i"
      ]
    },
    "kernelspec": {
      "display_name": "Python 3",
      "name": "python3"
    },
    "language_info": {
      "name": "python"
    }
  },
  "nbformat": 4,
  "nbformat_minor": 0
}